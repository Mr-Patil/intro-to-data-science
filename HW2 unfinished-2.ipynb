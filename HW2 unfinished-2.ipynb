{
 "cells": [
  {
   "cell_type": "code",
   "execution_count": 314,
   "id": "67122b0d",
   "metadata": {},
   "outputs": [],
   "source": [
    "import matplotlib.pyplot as plt\n",
    "import numpy as np\n",
    "import pandas as pd\n",
    "import seaborn as sns\n",
    "from IPython.display import display\n",
    "from sklearn.feature_selection import mutual_info_regression\n",
    "from sklearn.decomposition import PCA\n",
    "\n",
    "\n"
   ]
  },
  {
   "cell_type": "code",
   "execution_count": 315,
   "id": "f9752a50",
   "metadata": {},
   "outputs": [
    {
     "data": {
      "text/html": [
       "<div>\n",
       "<style scoped>\n",
       "    .dataframe tbody tr th:only-of-type {\n",
       "        vertical-align: middle;\n",
       "    }\n",
       "\n",
       "    .dataframe tbody tr th {\n",
       "        vertical-align: top;\n",
       "    }\n",
       "\n",
       "    .dataframe thead th {\n",
       "        text-align: right;\n",
       "    }\n",
       "</style>\n",
       "<table border=\"1\" class=\"dataframe\">\n",
       "  <thead>\n",
       "    <tr style=\"text-align: right;\">\n",
       "      <th></th>\n",
       "      <th>Unnamed: 0</th>\n",
       "      <th>symboling</th>\n",
       "      <th>normalized-losses</th>\n",
       "      <th>make</th>\n",
       "      <th>aspiration</th>\n",
       "      <th>num-of-doors</th>\n",
       "      <th>body-style</th>\n",
       "      <th>drive-wheels</th>\n",
       "      <th>engine-location</th>\n",
       "      <th>wheel-base</th>\n",
       "      <th>...</th>\n",
       "      <th>city-mpg</th>\n",
       "      <th>highway-mpg</th>\n",
       "      <th>price</th>\n",
       "      <th>model</th>\n",
       "      <th>year</th>\n",
       "      <th>city-L/100km</th>\n",
       "      <th>highway-L/100km</th>\n",
       "      <th>horsepower-binned</th>\n",
       "      <th>fuel-type-diesel</th>\n",
       "      <th>fuel-type-gas</th>\n",
       "    </tr>\n",
       "  </thead>\n",
       "  <tbody>\n",
       "    <tr>\n",
       "      <th>0</th>\n",
       "      <td>0</td>\n",
       "      <td>3.0</td>\n",
       "      <td>122</td>\n",
       "      <td>alfa-romero</td>\n",
       "      <td>std</td>\n",
       "      <td>2</td>\n",
       "      <td>convertible</td>\n",
       "      <td>rwd</td>\n",
       "      <td>front</td>\n",
       "      <td>88.6</td>\n",
       "      <td>...</td>\n",
       "      <td>21.0</td>\n",
       "      <td>27.0</td>\n",
       "      <td>13495.0</td>\n",
       "      <td>NaN</td>\n",
       "      <td>2019.4</td>\n",
       "      <td>11.190476</td>\n",
       "      <td>9.370370</td>\n",
       "      <td>low</td>\n",
       "      <td>0</td>\n",
       "      <td>1</td>\n",
       "    </tr>\n",
       "    <tr>\n",
       "      <th>1</th>\n",
       "      <td>1</td>\n",
       "      <td>3.0</td>\n",
       "      <td>122</td>\n",
       "      <td>alfa-romero</td>\n",
       "      <td>std</td>\n",
       "      <td>2</td>\n",
       "      <td>convertible</td>\n",
       "      <td>rwd</td>\n",
       "      <td>front</td>\n",
       "      <td>88.6</td>\n",
       "      <td>...</td>\n",
       "      <td>21.0</td>\n",
       "      <td>27.0</td>\n",
       "      <td>16500.0</td>\n",
       "      <td>NaN</td>\n",
       "      <td>2019.4</td>\n",
       "      <td>11.190476</td>\n",
       "      <td>9.370370</td>\n",
       "      <td>low</td>\n",
       "      <td>0</td>\n",
       "      <td>1</td>\n",
       "    </tr>\n",
       "    <tr>\n",
       "      <th>2</th>\n",
       "      <td>2</td>\n",
       "      <td>1.0</td>\n",
       "      <td>122</td>\n",
       "      <td>alfa-romero</td>\n",
       "      <td>std</td>\n",
       "      <td>2</td>\n",
       "      <td>hatchback</td>\n",
       "      <td>rwd</td>\n",
       "      <td>front</td>\n",
       "      <td>94.5</td>\n",
       "      <td>...</td>\n",
       "      <td>19.0</td>\n",
       "      <td>26.0</td>\n",
       "      <td>16500.0</td>\n",
       "      <td>NaN</td>\n",
       "      <td>2019.4</td>\n",
       "      <td>12.368421</td>\n",
       "      <td>9.730769</td>\n",
       "      <td>medium</td>\n",
       "      <td>0</td>\n",
       "      <td>1</td>\n",
       "    </tr>\n",
       "    <tr>\n",
       "      <th>3</th>\n",
       "      <td>3</td>\n",
       "      <td>2.0</td>\n",
       "      <td>164</td>\n",
       "      <td>audi</td>\n",
       "      <td>std</td>\n",
       "      <td>4</td>\n",
       "      <td>sedan</td>\n",
       "      <td>fwd</td>\n",
       "      <td>front</td>\n",
       "      <td>99.8</td>\n",
       "      <td>...</td>\n",
       "      <td>24.0</td>\n",
       "      <td>30.0</td>\n",
       "      <td>13950.0</td>\n",
       "      <td>NaN</td>\n",
       "      <td>2019.4</td>\n",
       "      <td>9.791667</td>\n",
       "      <td>8.433333</td>\n",
       "      <td>low</td>\n",
       "      <td>0</td>\n",
       "      <td>1</td>\n",
       "    </tr>\n",
       "    <tr>\n",
       "      <th>4</th>\n",
       "      <td>4</td>\n",
       "      <td>2.0</td>\n",
       "      <td>164</td>\n",
       "      <td>audi</td>\n",
       "      <td>std</td>\n",
       "      <td>4</td>\n",
       "      <td>sedan</td>\n",
       "      <td>4wd</td>\n",
       "      <td>front</td>\n",
       "      <td>99.4</td>\n",
       "      <td>...</td>\n",
       "      <td>18.0</td>\n",
       "      <td>22.0</td>\n",
       "      <td>17450.0</td>\n",
       "      <td>NaN</td>\n",
       "      <td>2019.4</td>\n",
       "      <td>13.055556</td>\n",
       "      <td>11.500000</td>\n",
       "      <td>low</td>\n",
       "      <td>0</td>\n",
       "      <td>1</td>\n",
       "    </tr>\n",
       "  </tbody>\n",
       "</table>\n",
       "<p>5 rows × 33 columns</p>\n",
       "</div>"
      ],
      "text/plain": [
       "   Unnamed: 0  symboling  normalized-losses         make aspiration  \\\n",
       "0           0        3.0                122  alfa-romero        std   \n",
       "1           1        3.0                122  alfa-romero        std   \n",
       "2           2        1.0                122  alfa-romero        std   \n",
       "3           3        2.0                164         audi        std   \n",
       "4           4        2.0                164         audi        std   \n",
       "\n",
       "   num-of-doors   body-style drive-wheels engine-location  wheel-base  ...  \\\n",
       "0             2  convertible          rwd           front        88.6  ...   \n",
       "1             2  convertible          rwd           front        88.6  ...   \n",
       "2             2    hatchback          rwd           front        94.5  ...   \n",
       "3             4        sedan          fwd           front        99.8  ...   \n",
       "4             4        sedan          4wd           front        99.4  ...   \n",
       "\n",
       "   city-mpg  highway-mpg    price  model    year city-L/100km  \\\n",
       "0      21.0         27.0  13495.0    NaN  2019.4    11.190476   \n",
       "1      21.0         27.0  16500.0    NaN  2019.4    11.190476   \n",
       "2      19.0         26.0  16500.0    NaN  2019.4    12.368421   \n",
       "3      24.0         30.0  13950.0    NaN  2019.4     9.791667   \n",
       "4      18.0         22.0  17450.0    NaN  2019.4    13.055556   \n",
       "\n",
       "   highway-L/100km horsepower-binned  fuel-type-diesel  fuel-type-gas  \n",
       "0         9.370370               low                 0              1  \n",
       "1         9.370370               low                 0              1  \n",
       "2         9.730769            medium                 0              1  \n",
       "3         8.433333               low                 0              1  \n",
       "4        11.500000               low                 0              1  \n",
       "\n",
       "[5 rows x 33 columns]"
      ]
     },
     "execution_count": 315,
     "metadata": {},
     "output_type": "execute_result"
    }
   ],
   "source": [
    "\n",
    "df = pd.read_csv(r'/Users/mp/Desktop/Assignments/HW1/Cleaned df3.csv')\n",
    "df.head()\n"
   ]
  },
  {
   "cell_type": "code",
   "execution_count": 316,
   "id": "090c2edc",
   "metadata": {},
   "outputs": [],
   "source": [
    "df = df.rename(columns={'curb-weight': 'curbweight'})\n",
    "\n",
    "# Save the dataset\n",
    "df.to_csv('Cleaned df4.csv', index=False)"
   ]
  },
  {
   "cell_type": "code",
   "execution_count": null,
   "id": "c717c13a",
   "metadata": {},
   "outputs": [],
   "source": []
  },
  {
   "cell_type": "code",
   "execution_count": 317,
   "id": "e718b53d",
   "metadata": {},
   "outputs": [],
   "source": [
    "features = [\"highway-mpg\", \"engine-size\", \"horsepower\", \"curbweight\"]\n",
    "\n",
    "X = df.copy()\n",
    "y = X.pop('price')\n",
    "X = X.loc[:, features]\n",
    "\n",
    "# Standardize\n",
    "X_scaled = (X - X.mean(axis=0)) / X.std(axis=0)"
   ]
  },
  {
   "cell_type": "code",
   "execution_count": 318,
   "id": "946b3e70",
   "metadata": {},
   "outputs": [
    {
     "data": {
      "text/html": [
       "<div>\n",
       "<style scoped>\n",
       "    .dataframe tbody tr th:only-of-type {\n",
       "        vertical-align: middle;\n",
       "    }\n",
       "\n",
       "    .dataframe tbody tr th {\n",
       "        vertical-align: top;\n",
       "    }\n",
       "\n",
       "    .dataframe thead th {\n",
       "        text-align: right;\n",
       "    }\n",
       "</style>\n",
       "<table border=\"1\" class=\"dataframe\">\n",
       "  <thead>\n",
       "    <tr style=\"text-align: right;\">\n",
       "      <th></th>\n",
       "      <th>PC1</th>\n",
       "      <th>PC2</th>\n",
       "      <th>PC3</th>\n",
       "      <th>PC4</th>\n",
       "    </tr>\n",
       "  </thead>\n",
       "  <tbody>\n",
       "    <tr>\n",
       "      <th>0</th>\n",
       "      <td>0.393907</td>\n",
       "      <td>-0.384444</td>\n",
       "      <td>0.092460</td>\n",
       "      <td>-0.210818</td>\n",
       "    </tr>\n",
       "    <tr>\n",
       "      <th>1</th>\n",
       "      <td>0.393907</td>\n",
       "      <td>-0.384444</td>\n",
       "      <td>0.092460</td>\n",
       "      <td>-0.210818</td>\n",
       "    </tr>\n",
       "    <tr>\n",
       "      <th>2</th>\n",
       "      <td>1.585530</td>\n",
       "      <td>-0.071266</td>\n",
       "      <td>0.585552</td>\n",
       "      <td>0.151819</td>\n",
       "    </tr>\n",
       "    <tr>\n",
       "      <th>3</th>\n",
       "      <td>-0.420542</td>\n",
       "      <td>-0.407168</td>\n",
       "      <td>0.240423</td>\n",
       "      <td>-0.059234</td>\n",
       "    </tr>\n",
       "    <tr>\n",
       "      <th>4</th>\n",
       "      <td>1.167859</td>\n",
       "      <td>-0.820930</td>\n",
       "      <td>-0.240536</td>\n",
       "      <td>-0.232007</td>\n",
       "    </tr>\n",
       "  </tbody>\n",
       "</table>\n",
       "</div>"
      ],
      "text/plain": [
       "        PC1       PC2       PC3       PC4\n",
       "0  0.393907 -0.384444  0.092460 -0.210818\n",
       "1  0.393907 -0.384444  0.092460 -0.210818\n",
       "2  1.585530 -0.071266  0.585552  0.151819\n",
       "3 -0.420542 -0.407168  0.240423 -0.059234\n",
       "4  1.167859 -0.820930 -0.240536 -0.232007"
      ]
     },
     "execution_count": 318,
     "metadata": {},
     "output_type": "execute_result"
    }
   ],
   "source": [
    "#Now we can fit scikit-learn's PCA estimator and create the principal components. You can see here the first few rows of the transformed dataset.\n",
    "\n",
    "from sklearn.decomposition import PCA\n",
    "\n",
    "# Create principal components\n",
    "pca = PCA()\n",
    "X_pca = pca.fit_transform(X_scaled)\n",
    "\n",
    "# Convert to dataframe\n",
    "component_names = [f\"PC{i+1}\" for i in range(X_pca.shape[1])]\n",
    "X_pca = pd.DataFrame(X_pca, columns=component_names)\n",
    "\n",
    "X_pca.head()"
   ]
  },
  {
   "cell_type": "code",
   "execution_count": 319,
   "id": "a5b66a86",
   "metadata": {},
   "outputs": [
    {
     "data": {
      "text/html": [
       "<div>\n",
       "<style scoped>\n",
       "    .dataframe tbody tr th:only-of-type {\n",
       "        vertical-align: middle;\n",
       "    }\n",
       "\n",
       "    .dataframe tbody tr th {\n",
       "        vertical-align: top;\n",
       "    }\n",
       "\n",
       "    .dataframe thead th {\n",
       "        text-align: right;\n",
       "    }\n",
       "</style>\n",
       "<table border=\"1\" class=\"dataframe\">\n",
       "  <thead>\n",
       "    <tr style=\"text-align: right;\">\n",
       "      <th></th>\n",
       "      <th>PC1</th>\n",
       "      <th>PC2</th>\n",
       "      <th>PC3</th>\n",
       "      <th>PC4</th>\n",
       "    </tr>\n",
       "  </thead>\n",
       "  <tbody>\n",
       "    <tr>\n",
       "      <th>highway-mpg</th>\n",
       "      <td>-0.486382</td>\n",
       "      <td>0.774645</td>\n",
       "      <td>0.088196</td>\n",
       "      <td>0.394436</td>\n",
       "    </tr>\n",
       "    <tr>\n",
       "      <th>engine-size</th>\n",
       "      <td>0.502031</td>\n",
       "      <td>0.625045</td>\n",
       "      <td>-0.062962</td>\n",
       "      <td>-0.594407</td>\n",
       "    </tr>\n",
       "    <tr>\n",
       "      <th>horsepower</th>\n",
       "      <td>0.500292</td>\n",
       "      <td>0.034046</td>\n",
       "      <td>0.779311</td>\n",
       "      <td>0.375797</td>\n",
       "    </tr>\n",
       "    <tr>\n",
       "      <th>curbweight</th>\n",
       "      <td>0.510984</td>\n",
       "      <td>0.089921</td>\n",
       "      <td>-0.617197</td>\n",
       "      <td>0.591505</td>\n",
       "    </tr>\n",
       "  </tbody>\n",
       "</table>\n",
       "</div>"
      ],
      "text/plain": [
       "                  PC1       PC2       PC3       PC4\n",
       "highway-mpg -0.486382  0.774645  0.088196  0.394436\n",
       "engine-size  0.502031  0.625045 -0.062962 -0.594407\n",
       "horsepower   0.500292  0.034046  0.779311  0.375797\n",
       "curbweight   0.510984  0.089921 -0.617197  0.591505"
      ]
     },
     "execution_count": 319,
     "metadata": {},
     "output_type": "execute_result"
    }
   ],
   "source": [
    "loadings = pd.DataFrame(\n",
    "    pca.components_.T,  # transpose the matrix of loadings\n",
    "    columns=component_names,  # so the columns are the principal components\n",
    "    index=X.columns,  # and the rows are the original features\n",
    ")\n",
    "loadings"
   ]
  },
  {
   "cell_type": "code",
   "execution_count": 320,
   "id": "9d52fa5b",
   "metadata": {},
   "outputs": [
    {
     "data": {
      "image/png": "[encoded data removed]",
      "text/plain": [
       "<Figure size 800x480 with 2 Axes>"
      ]
     },
     "metadata": {},
     "output_type": "display_data"
    }
   ],
   "source": [
    "# Look at explained variance\n",
    "plot_variance(pca);"
   ]
  },
  {
   "cell_type": "code",
   "execution_count": 321,
   "id": "c098f47d",
   "metadata": {},
   "outputs": [
    {
     "data": {
      "text/plain": [
       "PC1    1.059057\n",
       "PC2    0.475623\n",
       "PC3    0.395087\n",
       "PC4    0.361499\n",
       "Name: MI Scores, dtype: float64"
      ]
     },
     "execution_count": 321,
     "metadata": {},
     "output_type": "execute_result"
    }
   ],
   "source": [
    "mi_scores = make_mi_scores(X_pca, y, discrete_features=False)\n",
    "mi_scores"
   ]
  },
  {
   "cell_type": "code",
   "execution_count": 322,
   "id": "92c32e51",
   "metadata": {},
   "outputs": [
    {
     "data": {
      "text/html": [
       "<div>\n",
       "<style scoped>\n",
       "    .dataframe tbody tr th:only-of-type {\n",
       "        vertical-align: middle;\n",
       "    }\n",
       "\n",
       "    .dataframe tbody tr th {\n",
       "        vertical-align: top;\n",
       "    }\n",
       "\n",
       "    .dataframe thead th {\n",
       "        text-align: right;\n",
       "    }\n",
       "</style>\n",
       "<table border=\"1\" class=\"dataframe\">\n",
       "  <thead>\n",
       "    <tr style=\"text-align: right;\">\n",
       "      <th></th>\n",
       "      <th>make</th>\n",
       "      <th>body-style</th>\n",
       "      <th>horsepower</th>\n",
       "      <th>curbweight</th>\n",
       "    </tr>\n",
       "  </thead>\n",
       "  <tbody>\n",
       "    <tr>\n",
       "      <th>129</th>\n",
       "      <td>porsche</td>\n",
       "      <td>hatchback</td>\n",
       "      <td>288.0</td>\n",
       "      <td>3366.0</td>\n",
       "    </tr>\n",
       "    <tr>\n",
       "      <th>127</th>\n",
       "      <td>porsche</td>\n",
       "      <td>hardtop</td>\n",
       "      <td>207.0</td>\n",
       "      <td>2756.0</td>\n",
       "    </tr>\n",
       "    <tr>\n",
       "      <th>126</th>\n",
       "      <td>porsche</td>\n",
       "      <td>hardtop</td>\n",
       "      <td>207.0</td>\n",
       "      <td>2756.0</td>\n",
       "    </tr>\n",
       "    <tr>\n",
       "      <th>128</th>\n",
       "      <td>porsche</td>\n",
       "      <td>convertible</td>\n",
       "      <td>207.0</td>\n",
       "      <td>2800.0</td>\n",
       "    </tr>\n",
       "    <tr>\n",
       "      <th>105</th>\n",
       "      <td>nissan</td>\n",
       "      <td>hatchback</td>\n",
       "      <td>200.0</td>\n",
       "      <td>3139.0</td>\n",
       "    </tr>\n",
       "    <tr>\n",
       "      <th>...</th>\n",
       "      <td>...</td>\n",
       "      <td>...</td>\n",
       "      <td>...</td>\n",
       "      <td>...</td>\n",
       "    </tr>\n",
       "    <tr>\n",
       "      <th>68</th>\n",
       "      <td>mercedes-benz</td>\n",
       "      <td>wagon</td>\n",
       "      <td>123.0</td>\n",
       "      <td>3750.0</td>\n",
       "    </tr>\n",
       "    <tr>\n",
       "      <th>70</th>\n",
       "      <td>mercedes-benz</td>\n",
       "      <td>sedan</td>\n",
       "      <td>123.0</td>\n",
       "      <td>3770.0</td>\n",
       "    </tr>\n",
       "    <tr>\n",
       "      <th>110</th>\n",
       "      <td>peugot</td>\n",
       "      <td>wagon</td>\n",
       "      <td>95.0</td>\n",
       "      <td>3430.0</td>\n",
       "    </tr>\n",
       "    <tr>\n",
       "      <th>114</th>\n",
       "      <td>peugot</td>\n",
       "      <td>wagon</td>\n",
       "      <td>95.0</td>\n",
       "      <td>3485.0</td>\n",
       "    </tr>\n",
       "    <tr>\n",
       "      <th>155</th>\n",
       "      <td>toyota</td>\n",
       "      <td>wagon</td>\n",
       "      <td>62.0</td>\n",
       "      <td>3110.0</td>\n",
       "    </tr>\n",
       "  </tbody>\n",
       "</table>\n",
       "<p>220 rows × 4 columns</p>\n",
       "</div>"
      ],
      "text/plain": [
       "              make   body-style  horsepower  curbweight\n",
       "129        porsche    hatchback       288.0      3366.0\n",
       "127        porsche      hardtop       207.0      2756.0\n",
       "126        porsche      hardtop       207.0      2756.0\n",
       "128        porsche  convertible       207.0      2800.0\n",
       "105         nissan    hatchback       200.0      3139.0\n",
       "..             ...          ...         ...         ...\n",
       "68   mercedes-benz        wagon       123.0      3750.0\n",
       "70   mercedes-benz        sedan       123.0      3770.0\n",
       "110         peugot        wagon        95.0      3430.0\n",
       "114         peugot        wagon        95.0      3485.0\n",
       "155         toyota        wagon        62.0      3110.0\n",
       "\n",
       "[220 rows x 4 columns]"
      ]
     },
     "execution_count": 322,
     "metadata": {},
     "output_type": "execute_result"
    }
   ],
   "source": [
    "# Show dataframe sorted by PC3\n",
    "idx = X_pca[\"PC3\"].sort_values(ascending=False).index\n",
    "cols = [\"make\", \"body-style\", \"horsepower\", \"curbweight\"]\n",
    "df.loc[idx, cols]"
   ]
  },
  {
   "cell_type": "code",
   "execution_count": 323,
   "id": "d743a00e",
   "metadata": {},
   "outputs": [
    {
     "data": {
      "image/png": "[encoded data removed]",
      "text/plain": [
       "<Figure size 640x480 with 1 Axes>"
      ]
     },
     "metadata": {},
     "output_type": "display_data"
    }
   ],
   "source": [
    "df[\"sports_or_wagon\"] = X.curbweight/ X.horsepower\n",
    "sns.regplot(x=\"sports_or_wagon\", y='price', data=df, order=2);"
   ]
  },
  {
   "cell_type": "code",
   "execution_count": 324,
   "id": "ddf3884b",
   "metadata": {},
   "outputs": [],
   "source": [
    "X = df.drop(['symboling','year','height','stroke','peak-rpm' ,'model','Unnamed: 0', 'make','horsepower-binned','fuel-type-diesel','fuel-type-gas', 'aspiration', 'num-of-doors', 'body-style', 'drive-wheels', 'engine-location', 'engine-type', 'num-of-cylinders', 'fuel-system', 'price'], axis=1)"
   ]
  },
  {
   "cell_type": "code",
   "execution_count": 352,
   "id": "38a85372",
   "metadata": {},
   "outputs": [],
   "source": [
    "features = ['sports_or_wagon', 'wheel-base', 'compression-ratio', 'length']\n",
    "\n",
    "X = df.copy()\n",
    "y = X.pop('price')\n",
    "X = X.loc[:, features]\n",
    "\n",
    "# Standardize\n",
    "X_scaled = (X - X.mean(axis=0)) / X.std(axis=0)"
   ]
  },
  {
   "cell_type": "code",
   "execution_count": 353,
   "id": "78babde3",
   "metadata": {},
   "outputs": [
    {
     "data": {
      "text/html": [
       "<div>\n",
       "<style scoped>\n",
       "    .dataframe tbody tr th:only-of-type {\n",
       "        vertical-align: middle;\n",
       "    }\n",
       "\n",
       "    .dataframe tbody tr th {\n",
       "        vertical-align: top;\n",
       "    }\n",
       "\n",
       "    .dataframe thead th {\n",
       "        text-align: right;\n",
       "    }\n",
       "</style>\n",
       "<table border=\"1\" class=\"dataframe\">\n",
       "  <thead>\n",
       "    <tr style=\"text-align: right;\">\n",
       "      <th></th>\n",
       "      <th>PC1</th>\n",
       "      <th>PC2</th>\n",
       "      <th>PC3</th>\n",
       "      <th>PC4</th>\n",
       "    </tr>\n",
       "  </thead>\n",
       "  <tbody>\n",
       "    <tr>\n",
       "      <th>0</th>\n",
       "      <td>-1.630595</td>\n",
       "      <td>-0.170014</td>\n",
       "      <td>-0.568977</td>\n",
       "      <td>0.800537</td>\n",
       "    </tr>\n",
       "    <tr>\n",
       "      <th>1</th>\n",
       "      <td>-1.630595</td>\n",
       "      <td>-0.170014</td>\n",
       "      <td>-0.568977</td>\n",
       "      <td>0.800537</td>\n",
       "    </tr>\n",
       "    <tr>\n",
       "      <th>2</th>\n",
       "      <td>-0.923057</td>\n",
       "      <td>-0.993129</td>\n",
       "      <td>-0.876623</td>\n",
       "      <td>0.102987</td>\n",
       "    </tr>\n",
       "    <tr>\n",
       "      <th>3</th>\n",
       "      <td>0.173979</td>\n",
       "      <td>-0.526151</td>\n",
       "      <td>-0.302639</td>\n",
       "      <td>-0.069293</td>\n",
       "    </tr>\n",
       "    <tr>\n",
       "      <th>4</th>\n",
       "      <td>-0.017389</td>\n",
       "      <td>-0.616905</td>\n",
       "      <td>0.249236</td>\n",
       "      <td>0.051391</td>\n",
       "    </tr>\n",
       "  </tbody>\n",
       "</table>\n",
       "</div>"
      ],
      "text/plain": [
       "        PC1       PC2       PC3       PC4\n",
       "0 -1.630595 -0.170014 -0.568977  0.800537\n",
       "1 -1.630595 -0.170014 -0.568977  0.800537\n",
       "2 -0.923057 -0.993129 -0.876623  0.102987\n",
       "3  0.173979 -0.526151 -0.302639 -0.069293\n",
       "4 -0.017389 -0.616905  0.249236  0.051391"
      ]
     },
     "execution_count": 353,
     "metadata": {},
     "output_type": "execute_result"
    }
   ],
   "source": [
    "#Now we can fit scikit-learn's PCA estimator and create the principal components. You can see here the first few rows of the transformed dataset.\n",
    "\n",
    "from sklearn.decomposition import PCA\n",
    "\n",
    "# Create principal components\n",
    "pca = PCA()\n",
    "X_pca = pca.fit_transform(X_scaled)\n",
    "\n",
    "# Convert to dataframe\n",
    "component_names = [f\"PC{i+1}\" for i in range(X_pca.shape[1])]\n",
    "X_pca = pd.DataFrame(X_pca, columns=component_names)\n",
    "\n",
    "X_pca.head()"
   ]
  },
  {
   "cell_type": "code",
   "execution_count": 354,
   "id": "336e1072",
   "metadata": {},
   "outputs": [
    {
     "data": {
      "text/html": [
       "<div>\n",
       "<style scoped>\n",
       "    .dataframe tbody tr th:only-of-type {\n",
       "        vertical-align: middle;\n",
       "    }\n",
       "\n",
       "    .dataframe tbody tr th {\n",
       "        vertical-align: top;\n",
       "    }\n",
       "\n",
       "    .dataframe thead th {\n",
       "        text-align: right;\n",
       "    }\n",
       "</style>\n",
       "<table border=\"1\" class=\"dataframe\">\n",
       "  <thead>\n",
       "    <tr style=\"text-align: right;\">\n",
       "      <th></th>\n",
       "      <th>PC1</th>\n",
       "      <th>PC2</th>\n",
       "      <th>PC3</th>\n",
       "      <th>PC4</th>\n",
       "    </tr>\n",
       "  </thead>\n",
       "  <tbody>\n",
       "    <tr>\n",
       "      <th>sports_or_wagon</th>\n",
       "      <td>0.124858</td>\n",
       "      <td>0.721385</td>\n",
       "      <td>0.658530</td>\n",
       "      <td>0.174222</td>\n",
       "    </tr>\n",
       "    <tr>\n",
       "      <th>wheel-base</th>\n",
       "      <td>0.671613</td>\n",
       "      <td>-0.161988</td>\n",
       "      <td>0.231328</td>\n",
       "      <td>-0.684970</td>\n",
       "    </tr>\n",
       "    <tr>\n",
       "      <th>compression-ratio</th>\n",
       "      <td>0.348835</td>\n",
       "      <td>0.603363</td>\n",
       "      <td>-0.715869</td>\n",
       "      <td>-0.042419</td>\n",
       "    </tr>\n",
       "    <tr>\n",
       "      <th>length</th>\n",
       "      <td>0.641608</td>\n",
       "      <td>-0.298861</td>\n",
       "      <td>0.018913</td>\n",
       "      <td>0.706161</td>\n",
       "    </tr>\n",
       "  </tbody>\n",
       "</table>\n",
       "</div>"
      ],
      "text/plain": [
       "                        PC1       PC2       PC3       PC4\n",
       "sports_or_wagon    0.124858  0.721385  0.658530  0.174222\n",
       "wheel-base         0.671613 -0.161988  0.231328 -0.684970\n",
       "compression-ratio  0.348835  0.603363 -0.715869 -0.042419\n",
       "length             0.641608 -0.298861  0.018913  0.706161"
      ]
     },
     "execution_count": 354,
     "metadata": {},
     "output_type": "execute_result"
    }
   ],
   "source": [
    "loadings = pd.DataFrame(\n",
    "    pca.components_.T,  # transpose the matrix of loadings\n",
    "    columns=component_names,  # so the columns are the principal components\n",
    "    index=X.columns,  # and the rows are the original features\n",
    ")\n",
    "loadings"
   ]
  },
  {
   "cell_type": "code",
   "execution_count": 355,
   "id": "30706087",
   "metadata": {},
   "outputs": [
    {
     "data": {
      "image/png": "[encoded data removed]",
      "text/plain": [
       "<Figure size 800x480 with 2 Axes>"
      ]
     },
     "metadata": {},
     "output_type": "display_data"
    }
   ],
   "source": [
    "# Look at explained variance\n",
    "plot_variance(pca);"
   ]
  },
  {
   "cell_type": "code",
   "execution_count": 356,
   "id": "be5580a9",
   "metadata": {},
   "outputs": [
    {
     "data": {
      "text/plain": [
       "PC2    0.835648\n",
       "PC1    0.459719\n",
       "PC3    0.397733\n",
       "PC4    0.284177\n",
       "Name: MI Scores, dtype: float64"
      ]
     },
     "execution_count": 356,
     "metadata": {},
     "output_type": "execute_result"
    }
   ],
   "source": [
    "mi_scores = make_mi_scores(X_pca, y, discrete_features=False)\n",
    "mi_scores"
   ]
  },
  {
   "cell_type": "code",
   "execution_count": 357,
   "id": "0122874c",
   "metadata": {},
   "outputs": [
    {
     "data": {
      "text/html": [
       "<div>\n",
       "<style scoped>\n",
       "    .dataframe tbody tr th:only-of-type {\n",
       "        vertical-align: middle;\n",
       "    }\n",
       "\n",
       "    .dataframe tbody tr th {\n",
       "        vertical-align: top;\n",
       "    }\n",
       "\n",
       "    .dataframe thead th {\n",
       "        text-align: right;\n",
       "    }\n",
       "</style>\n",
       "<table border=\"1\" class=\"dataframe\">\n",
       "  <thead>\n",
       "    <tr style=\"text-align: right;\">\n",
       "      <th></th>\n",
       "      <th>sports_or_wagon</th>\n",
       "      <th>wheel-base</th>\n",
       "      <th>compression-ratio</th>\n",
       "      <th>length</th>\n",
       "    </tr>\n",
       "  </thead>\n",
       "  <tbody>\n",
       "    <tr>\n",
       "      <th>155</th>\n",
       "      <td>50.161290</td>\n",
       "      <td>95.7</td>\n",
       "      <td>9.0</td>\n",
       "      <td>0.815473</td>\n",
       "    </tr>\n",
       "    <tr>\n",
       "      <th>113</th>\n",
       "      <td>34.578947</td>\n",
       "      <td>114.2</td>\n",
       "      <td>8.4</td>\n",
       "      <td>0.955790</td>\n",
       "    </tr>\n",
       "    <tr>\n",
       "      <th>109</th>\n",
       "      <td>33.298969</td>\n",
       "      <td>114.2</td>\n",
       "      <td>8.4</td>\n",
       "      <td>0.955790</td>\n",
       "    </tr>\n",
       "    <tr>\n",
       "      <th>111</th>\n",
       "      <td>32.368421</td>\n",
       "      <td>107.9</td>\n",
       "      <td>8.4</td>\n",
       "      <td>0.897165</td>\n",
       "    </tr>\n",
       "    <tr>\n",
       "      <th>115</th>\n",
       "      <td>31.701031</td>\n",
       "      <td>107.9</td>\n",
       "      <td>8.4</td>\n",
       "      <td>0.897165</td>\n",
       "    </tr>\n",
       "    <tr>\n",
       "      <th>...</th>\n",
       "      <td>...</td>\n",
       "      <td>...</td>\n",
       "      <td>...</td>\n",
       "      <td>...</td>\n",
       "    </tr>\n",
       "    <tr>\n",
       "      <th>187</th>\n",
       "      <td>34.102941</td>\n",
       "      <td>97.3</td>\n",
       "      <td>23.0</td>\n",
       "      <td>0.825084</td>\n",
       "    </tr>\n",
       "    <tr>\n",
       "      <th>129</th>\n",
       "      <td>11.687500</td>\n",
       "      <td>98.4</td>\n",
       "      <td>10.0</td>\n",
       "      <td>0.844306</td>\n",
       "    </tr>\n",
       "    <tr>\n",
       "      <th>128</th>\n",
       "      <td>13.526570</td>\n",
       "      <td>89.5</td>\n",
       "      <td>9.5</td>\n",
       "      <td>0.811629</td>\n",
       "    </tr>\n",
       "    <tr>\n",
       "      <th>126</th>\n",
       "      <td>13.314010</td>\n",
       "      <td>89.5</td>\n",
       "      <td>9.5</td>\n",
       "      <td>0.811629</td>\n",
       "    </tr>\n",
       "    <tr>\n",
       "      <th>127</th>\n",
       "      <td>13.314010</td>\n",
       "      <td>89.5</td>\n",
       "      <td>9.5</td>\n",
       "      <td>0.811629</td>\n",
       "    </tr>\n",
       "  </tbody>\n",
       "</table>\n",
       "<p>220 rows × 4 columns</p>\n",
       "</div>"
      ],
      "text/plain": [
       "     sports_or_wagon  wheel-base  compression-ratio    length\n",
       "155        50.161290        95.7                9.0  0.815473\n",
       "113        34.578947       114.2                8.4  0.955790\n",
       "109        33.298969       114.2                8.4  0.955790\n",
       "111        32.368421       107.9                8.4  0.897165\n",
       "115        31.701031       107.9                8.4  0.897165\n",
       "..               ...         ...                ...       ...\n",
       "187        34.102941        97.3               23.0  0.825084\n",
       "129        11.687500        98.4               10.0  0.844306\n",
       "128        13.526570        89.5                9.5  0.811629\n",
       "126        13.314010        89.5                9.5  0.811629\n",
       "127        13.314010        89.5                9.5  0.811629\n",
       "\n",
       "[220 rows x 4 columns]"
      ]
     },
     "execution_count": 357,
     "metadata": {},
     "output_type": "execute_result"
    }
   ],
   "source": [
    "# Show dataframe sorted by PC3\n",
    "idx = X_pca[\"PC3\"].sort_values(ascending=False).index\n",
    "cols = ['sports_or_wagon', 'wheel-base', 'compression-ratio', 'length']\n",
    "df.loc[idx, cols]"
   ]
  },
  {
   "cell_type": "code",
   "execution_count": 358,
   "id": "752919c5",
   "metadata": {},
   "outputs": [],
   "source": [
    "# Scale the data\n",
    "scaler = StandardScaler()\n",
    "X_scaled = scaler.fit_transform(X)\n"
   ]
  },
  {
   "cell_type": "code",
   "execution_count": null,
   "id": "7245f390",
   "metadata": {},
   "outputs": [],
   "source": [
    "df[\"sports_or_wagon\"] = X.curbweight/ X.horsepower\n",
    "sns.regplot(x=\"sports_or_wagon\", y='price', data=df, order=2);"
   ]
  },
  {
   "cell_type": "code",
   "execution_count": 361,
   "id": "5894f354",
   "metadata": {},
   "outputs": [
    {
     "data": {
      "text/plain": [
       "PCA(n_components=4)"
      ]
     },
     "execution_count": 361,
     "metadata": {},
     "output_type": "execute_result"
    }
   ],
   "source": [
    "# Apply PCA\n",
    "pca = PCA(n_components=4)\n",
    "pca.fit(X_scaled)\n"
   ]
  },
  {
   "cell_type": "code",
   "execution_count": 362,
   "id": "1af55445",
   "metadata": {},
   "outputs": [
    {
     "name": "stdout",
     "output_type": "stream",
     "text": [
      "[0.49299955 0.38039871 0.10045338 0.02614836]\n"
     ]
    }
   ],
   "source": [
    "# Look at the explained variance ratio for each component\n",
    "print(pca.explained_variance_ratio_)"
   ]
  },
  {
   "cell_type": "code",
   "execution_count": 363,
   "id": "d7a419c2",
   "metadata": {},
   "outputs": [
    {
     "name": "stdout",
     "output_type": "stream",
     "text": [
      "['wheel-base', 'compression-ratio', 'sports_or_wagon', 'length']\n"
     ]
    }
   ],
   "source": [
    "# Identify the top two features\n",
    "top_features = loadings.abs().sum(axis=1).nlargest(4).index.tolist()\n",
    "print(top_features)\n"
   ]
  },
  {
   "cell_type": "code",
   "execution_count": 364,
   "id": "442b3d4d",
   "metadata": {},
   "outputs": [
    {
     "data": {
      "text/plain": [
       "PC2    0.825321\n",
       "PC1    0.451442\n",
       "PC3    0.413254\n",
       "PC4    0.285055\n",
       "Name: MI Scores, dtype: float64"
      ]
     },
     "execution_count": 364,
     "metadata": {},
     "output_type": "execute_result"
    }
   ],
   "source": [
    "mi_scores = make_mi_scores(X_pca, y, discrete_features=False)\n",
    "mi_scores"
   ]
  },
  {
   "cell_type": "code",
   "execution_count": 366,
   "id": "4c4cf286",
   "metadata": {},
   "outputs": [
    {
     "name": "stdout",
     "output_type": "stream",
     "text": [
      "     wheel-base  compression-ratio  sports_or_wagon    length\n",
      "0     88.600000           9.000000        22.954955  0.811148\n",
      "1     88.600000           9.000000        22.954955  0.811148\n",
      "2     94.500000           9.000000        18.331169  0.822681\n",
      "3     99.800000          10.000000        22.911765  0.848630\n",
      "4     99.400000           8.000000        24.556522  0.848630\n",
      "..          ...                ...              ...       ...\n",
      "215   98.756585          10.142537        24.512373  0.836373\n",
      "216   98.756585          10.142537        24.512373  0.836373\n",
      "217   98.756585          10.142537        24.512373  0.836373\n",
      "218   98.756585          10.142537        24.512373  0.836373\n",
      "219   98.756585          10.142537        24.512373  0.836373\n",
      "\n",
      "[220 rows x 4 columns]\n"
     ]
    }
   ],
   "source": [
    "# Fit a regression model using the top two features\n",
    "from sklearn.linear_model import LinearRegression\n",
    "\n",
    "X_top = X[top_features]\n",
    "model = LinearRegression()\n",
    "model.fit(X_top, df['price'])\n",
    "print(X_top)\n",
    "\n"
   ]
  },
  {
   "cell_type": "code",
   "execution_count": 367,
   "id": "b67f8a1c",
   "metadata": {},
   "outputs": [
    {
     "name": "stdout",
     "output_type": "stream",
     "text": [
      "R-squared: 0.6062408627743845\n",
      "MSE: 22607453.00011542\n",
      "RMSE: 4754.729540164763\n"
     ]
    }
   ],
   "source": [
    "# Evaluate the model\n",
    "from sklearn.metrics import r2_score, mean_squared_error\n",
    "y_pred = model.predict(X_top)\n",
    "print('R-squared:', r2_score(df['price'], y_pred))\n",
    "print('MSE:', mean_squared_error(df['price'], y_pred))\n",
    "print('RMSE:', mean_squared_error(df['price'], y_pred, squared=False))"
   ]
  },
  {
   "cell_type": "code",
   "execution_count": 368,
   "id": "3b0e382b",
   "metadata": {},
   "outputs": [
    {
     "name": "stdout",
     "output_type": "stream",
     "text": [
      "Percentage of price predicted: 60.62408627743845\n"
     ]
    }
   ],
   "source": [
    "from sklearn.metrics import r2_score, mean_squared_error\n",
    "\n",
    "y_pred = model.predict(X_top)\n",
    "r2 = r2_score(df['price'], y_pred)\n",
    "\n",
    "# Calculate the percentage of price predicted\n",
    "percentage_price_predicted = r2 * 100\n",
    "print('Percentage of price predicted:', percentage_price_predicted)"
   ]
  },
  {
   "cell_type": "code",
   "execution_count": null,
   "id": "95089595",
   "metadata": {},
   "outputs": [],
   "source": []
  },
  {
   "cell_type": "code",
   "execution_count": null,
   "id": "30580882",
   "metadata": {},
   "outputs": [],
   "source": []
  }
 ],
 "metadata": {
  "kernelspec": {
   "display_name": "Python 3 (ipykernel)",
   "language": "python",
   "name": "python3"
  },
  "language_info": {
   "codemirror_mode": {
    "name": "ipython",
    "version": 3
   },
   "file_extension": ".py",
   "mimetype": "text/x-python",
   "name": "python",
   "nbconvert_exporter": "python",
   "pygments_lexer": "ipython3",
   "version": "3.9.13"
  }
 },
 "nbformat": 4,
 "nbformat_minor": 5
}
